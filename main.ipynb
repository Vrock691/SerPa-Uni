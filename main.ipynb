{
 "cells": [
  {
   "cell_type": "code",
   "execution_count": 4,
   "metadata": {},
   "outputs": [],
   "source": [
    "import cv2\n",
    "import numpy as np\n",
    "\n",
    "# Charger l'image\n",
    "image = cv2.imread('image.png')\n",
    "\n",
    "# Points de la région à zoomer (x, y) dans l'image d'origine\n",
    "points_src = np.array([[100, 100], [400, 100], [400, 400], [100, 400]], dtype=np.float32)\n",
    "\n",
    "# Dimensions de la zone zoomée\n",
    "width, height = 300, 300  # Dimensions souhaitées après le zoom\n",
    "\n",
    "# Points cibles pour la transformation (en rectangle)\n",
    "points_dst = np.array([[0, 0], [width, 0], [width, height], [0, height]], dtype=np.float32)\n",
    "\n",
    "# Calculer la matrice de transformation perspective\n",
    "matrix = cv2.getPerspectiveTransform(points_src, points_dst)\n",
    "\n",
    "# Appliquer la transformation perspective\n",
    "zoomed_region = cv2.warpPerspective(image, matrix, (width, height))\n",
    "\n",
    "# Afficher le résultat\n",
    "cv2.imshow('Image Originale', image)\n",
    "cv2.imshow('Zone Zoomée', zoomed_region)\n",
    "cv2.waitKey(0)\n",
    "cv2.destroyAllWindows()"
   ]
  }
 ],
 "metadata": {
  "kernelspec": {
   "display_name": "Python 3",
   "language": "python",
   "name": "python3"
  },
  "language_info": {
   "codemirror_mode": {
    "name": "ipython",
    "version": 3
   },
   "file_extension": ".py",
   "mimetype": "text/x-python",
   "name": "python",
   "nbconvert_exporter": "python",
   "pygments_lexer": "ipython3",
   "version": "3.12.1"
  }
 },
 "nbformat": 4,
 "nbformat_minor": 2
}
